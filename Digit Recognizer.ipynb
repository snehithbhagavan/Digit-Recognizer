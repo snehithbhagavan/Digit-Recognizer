{
 "cells": [
  {
   "cell_type": "code",
   "execution_count": 7,
   "metadata": {
    "execution": {
     "iopub.execute_input": "2022-08-14T12:55:40.831027Z",
     "iopub.status.busy": "2022-08-14T12:55:40.830597Z",
     "iopub.status.idle": "2022-08-14T12:55:40.836598Z",
     "shell.execute_reply": "2022-08-14T12:55:40.835232Z",
     "shell.execute_reply.started": "2022-08-14T12:55:40.830990Z"
    }
   },
   "outputs": [],
   "source": [
    "import numpy as np\n",
    "import pandas as pd\n",
    "import matplotlib.pyplot as plt"
   ]
  },
  {
   "cell_type": "code",
   "execution_count": 8,
   "metadata": {
    "execution": {
     "iopub.execute_input": "2022-08-14T12:55:40.877286Z",
     "iopub.status.busy": "2022-08-14T12:55:40.876324Z",
     "iopub.status.idle": "2022-08-14T12:55:45.245952Z",
     "shell.execute_reply": "2022-08-14T12:55:45.244737Z",
     "shell.execute_reply.started": "2022-08-14T12:55:40.877236Z"
    }
   },
   "outputs": [],
   "source": [
    "data = pd.read_csv('C:/Users/snehi/OneDrive/Desktop/train.csv/train.csv')"
   ]
  },
  {
   "cell_type": "code",
   "execution_count": 9,
   "metadata": {
    "execution": {
     "iopub.execute_input": "2022-08-14T12:55:45.249470Z",
     "iopub.status.busy": "2022-08-14T12:55:45.249133Z",
     "iopub.status.idle": "2022-08-14T12:55:45.280113Z",
     "shell.execute_reply": "2022-08-14T12:55:45.279050Z",
     "shell.execute_reply.started": "2022-08-14T12:55:45.249439Z"
    }
   },
   "outputs": [
    {
     "data": {
      "text/html": [
       "<div>\n",
       "<style scoped>\n",
       "    .dataframe tbody tr th:only-of-type {\n",
       "        vertical-align: middle;\n",
       "    }\n",
       "\n",
       "    .dataframe tbody tr th {\n",
       "        vertical-align: top;\n",
       "    }\n",
       "\n",
       "    .dataframe thead th {\n",
       "        text-align: right;\n",
       "    }\n",
       "</style>\n",
       "<table border=\"1\" class=\"dataframe\">\n",
       "  <thead>\n",
       "    <tr style=\"text-align: right;\">\n",
       "      <th></th>\n",
       "      <th>label</th>\n",
       "      <th>pixel0</th>\n",
       "      <th>pixel1</th>\n",
       "      <th>pixel2</th>\n",
       "      <th>pixel3</th>\n",
       "      <th>pixel4</th>\n",
       "      <th>pixel5</th>\n",
       "      <th>pixel6</th>\n",
       "      <th>pixel7</th>\n",
       "      <th>pixel8</th>\n",
       "      <th>...</th>\n",
       "      <th>pixel774</th>\n",
       "      <th>pixel775</th>\n",
       "      <th>pixel776</th>\n",
       "      <th>pixel777</th>\n",
       "      <th>pixel778</th>\n",
       "      <th>pixel779</th>\n",
       "      <th>pixel780</th>\n",
       "      <th>pixel781</th>\n",
       "      <th>pixel782</th>\n",
       "      <th>pixel783</th>\n",
       "    </tr>\n",
       "  </thead>\n",
       "  <tbody>\n",
       "    <tr>\n",
       "      <th>0</th>\n",
       "      <td>1</td>\n",
       "      <td>0</td>\n",
       "      <td>0</td>\n",
       "      <td>0</td>\n",
       "      <td>0</td>\n",
       "      <td>0</td>\n",
       "      <td>0</td>\n",
       "      <td>0</td>\n",
       "      <td>0</td>\n",
       "      <td>0</td>\n",
       "      <td>...</td>\n",
       "      <td>0</td>\n",
       "      <td>0</td>\n",
       "      <td>0</td>\n",
       "      <td>0</td>\n",
       "      <td>0</td>\n",
       "      <td>0</td>\n",
       "      <td>0</td>\n",
       "      <td>0</td>\n",
       "      <td>0</td>\n",
       "      <td>0</td>\n",
       "    </tr>\n",
       "    <tr>\n",
       "      <th>1</th>\n",
       "      <td>0</td>\n",
       "      <td>0</td>\n",
       "      <td>0</td>\n",
       "      <td>0</td>\n",
       "      <td>0</td>\n",
       "      <td>0</td>\n",
       "      <td>0</td>\n",
       "      <td>0</td>\n",
       "      <td>0</td>\n",
       "      <td>0</td>\n",
       "      <td>...</td>\n",
       "      <td>0</td>\n",
       "      <td>0</td>\n",
       "      <td>0</td>\n",
       "      <td>0</td>\n",
       "      <td>0</td>\n",
       "      <td>0</td>\n",
       "      <td>0</td>\n",
       "      <td>0</td>\n",
       "      <td>0</td>\n",
       "      <td>0</td>\n",
       "    </tr>\n",
       "    <tr>\n",
       "      <th>2</th>\n",
       "      <td>1</td>\n",
       "      <td>0</td>\n",
       "      <td>0</td>\n",
       "      <td>0</td>\n",
       "      <td>0</td>\n",
       "      <td>0</td>\n",
       "      <td>0</td>\n",
       "      <td>0</td>\n",
       "      <td>0</td>\n",
       "      <td>0</td>\n",
       "      <td>...</td>\n",
       "      <td>0</td>\n",
       "      <td>0</td>\n",
       "      <td>0</td>\n",
       "      <td>0</td>\n",
       "      <td>0</td>\n",
       "      <td>0</td>\n",
       "      <td>0</td>\n",
       "      <td>0</td>\n",
       "      <td>0</td>\n",
       "      <td>0</td>\n",
       "    </tr>\n",
       "    <tr>\n",
       "      <th>3</th>\n",
       "      <td>4</td>\n",
       "      <td>0</td>\n",
       "      <td>0</td>\n",
       "      <td>0</td>\n",
       "      <td>0</td>\n",
       "      <td>0</td>\n",
       "      <td>0</td>\n",
       "      <td>0</td>\n",
       "      <td>0</td>\n",
       "      <td>0</td>\n",
       "      <td>...</td>\n",
       "      <td>0</td>\n",
       "      <td>0</td>\n",
       "      <td>0</td>\n",
       "      <td>0</td>\n",
       "      <td>0</td>\n",
       "      <td>0</td>\n",
       "      <td>0</td>\n",
       "      <td>0</td>\n",
       "      <td>0</td>\n",
       "      <td>0</td>\n",
       "    </tr>\n",
       "    <tr>\n",
       "      <th>4</th>\n",
       "      <td>0</td>\n",
       "      <td>0</td>\n",
       "      <td>0</td>\n",
       "      <td>0</td>\n",
       "      <td>0</td>\n",
       "      <td>0</td>\n",
       "      <td>0</td>\n",
       "      <td>0</td>\n",
       "      <td>0</td>\n",
       "      <td>0</td>\n",
       "      <td>...</td>\n",
       "      <td>0</td>\n",
       "      <td>0</td>\n",
       "      <td>0</td>\n",
       "      <td>0</td>\n",
       "      <td>0</td>\n",
       "      <td>0</td>\n",
       "      <td>0</td>\n",
       "      <td>0</td>\n",
       "      <td>0</td>\n",
       "      <td>0</td>\n",
       "    </tr>\n",
       "    <tr>\n",
       "      <th>...</th>\n",
       "      <td>...</td>\n",
       "      <td>...</td>\n",
       "      <td>...</td>\n",
       "      <td>...</td>\n",
       "      <td>...</td>\n",
       "      <td>...</td>\n",
       "      <td>...</td>\n",
       "      <td>...</td>\n",
       "      <td>...</td>\n",
       "      <td>...</td>\n",
       "      <td>...</td>\n",
       "      <td>...</td>\n",
       "      <td>...</td>\n",
       "      <td>...</td>\n",
       "      <td>...</td>\n",
       "      <td>...</td>\n",
       "      <td>...</td>\n",
       "      <td>...</td>\n",
       "      <td>...</td>\n",
       "      <td>...</td>\n",
       "      <td>...</td>\n",
       "    </tr>\n",
       "    <tr>\n",
       "      <th>41995</th>\n",
       "      <td>0</td>\n",
       "      <td>0</td>\n",
       "      <td>0</td>\n",
       "      <td>0</td>\n",
       "      <td>0</td>\n",
       "      <td>0</td>\n",
       "      <td>0</td>\n",
       "      <td>0</td>\n",
       "      <td>0</td>\n",
       "      <td>0</td>\n",
       "      <td>...</td>\n",
       "      <td>0</td>\n",
       "      <td>0</td>\n",
       "      <td>0</td>\n",
       "      <td>0</td>\n",
       "      <td>0</td>\n",
       "      <td>0</td>\n",
       "      <td>0</td>\n",
       "      <td>0</td>\n",
       "      <td>0</td>\n",
       "      <td>0</td>\n",
       "    </tr>\n",
       "    <tr>\n",
       "      <th>41996</th>\n",
       "      <td>1</td>\n",
       "      <td>0</td>\n",
       "      <td>0</td>\n",
       "      <td>0</td>\n",
       "      <td>0</td>\n",
       "      <td>0</td>\n",
       "      <td>0</td>\n",
       "      <td>0</td>\n",
       "      <td>0</td>\n",
       "      <td>0</td>\n",
       "      <td>...</td>\n",
       "      <td>0</td>\n",
       "      <td>0</td>\n",
       "      <td>0</td>\n",
       "      <td>0</td>\n",
       "      <td>0</td>\n",
       "      <td>0</td>\n",
       "      <td>0</td>\n",
       "      <td>0</td>\n",
       "      <td>0</td>\n",
       "      <td>0</td>\n",
       "    </tr>\n",
       "    <tr>\n",
       "      <th>41997</th>\n",
       "      <td>7</td>\n",
       "      <td>0</td>\n",
       "      <td>0</td>\n",
       "      <td>0</td>\n",
       "      <td>0</td>\n",
       "      <td>0</td>\n",
       "      <td>0</td>\n",
       "      <td>0</td>\n",
       "      <td>0</td>\n",
       "      <td>0</td>\n",
       "      <td>...</td>\n",
       "      <td>0</td>\n",
       "      <td>0</td>\n",
       "      <td>0</td>\n",
       "      <td>0</td>\n",
       "      <td>0</td>\n",
       "      <td>0</td>\n",
       "      <td>0</td>\n",
       "      <td>0</td>\n",
       "      <td>0</td>\n",
       "      <td>0</td>\n",
       "    </tr>\n",
       "    <tr>\n",
       "      <th>41998</th>\n",
       "      <td>6</td>\n",
       "      <td>0</td>\n",
       "      <td>0</td>\n",
       "      <td>0</td>\n",
       "      <td>0</td>\n",
       "      <td>0</td>\n",
       "      <td>0</td>\n",
       "      <td>0</td>\n",
       "      <td>0</td>\n",
       "      <td>0</td>\n",
       "      <td>...</td>\n",
       "      <td>0</td>\n",
       "      <td>0</td>\n",
       "      <td>0</td>\n",
       "      <td>0</td>\n",
       "      <td>0</td>\n",
       "      <td>0</td>\n",
       "      <td>0</td>\n",
       "      <td>0</td>\n",
       "      <td>0</td>\n",
       "      <td>0</td>\n",
       "    </tr>\n",
       "    <tr>\n",
       "      <th>41999</th>\n",
       "      <td>9</td>\n",
       "      <td>0</td>\n",
       "      <td>0</td>\n",
       "      <td>0</td>\n",
       "      <td>0</td>\n",
       "      <td>0</td>\n",
       "      <td>0</td>\n",
       "      <td>0</td>\n",
       "      <td>0</td>\n",
       "      <td>0</td>\n",
       "      <td>...</td>\n",
       "      <td>0</td>\n",
       "      <td>0</td>\n",
       "      <td>0</td>\n",
       "      <td>0</td>\n",
       "      <td>0</td>\n",
       "      <td>0</td>\n",
       "      <td>0</td>\n",
       "      <td>0</td>\n",
       "      <td>0</td>\n",
       "      <td>0</td>\n",
       "    </tr>\n",
       "  </tbody>\n",
       "</table>\n",
       "<p>42000 rows × 785 columns</p>\n",
       "</div>"
      ],
      "text/plain": [
       "       label  pixel0  pixel1  pixel2  pixel3  pixel4  pixel5  pixel6  pixel7  \\\n",
       "0          1       0       0       0       0       0       0       0       0   \n",
       "1          0       0       0       0       0       0       0       0       0   \n",
       "2          1       0       0       0       0       0       0       0       0   \n",
       "3          4       0       0       0       0       0       0       0       0   \n",
       "4          0       0       0       0       0       0       0       0       0   \n",
       "...      ...     ...     ...     ...     ...     ...     ...     ...     ...   \n",
       "41995      0       0       0       0       0       0       0       0       0   \n",
       "41996      1       0       0       0       0       0       0       0       0   \n",
       "41997      7       0       0       0       0       0       0       0       0   \n",
       "41998      6       0       0       0       0       0       0       0       0   \n",
       "41999      9       0       0       0       0       0       0       0       0   \n",
       "\n",
       "       pixel8  ...  pixel774  pixel775  pixel776  pixel777  pixel778  \\\n",
       "0           0  ...         0         0         0         0         0   \n",
       "1           0  ...         0         0         0         0         0   \n",
       "2           0  ...         0         0         0         0         0   \n",
       "3           0  ...         0         0         0         0         0   \n",
       "4           0  ...         0         0         0         0         0   \n",
       "...       ...  ...       ...       ...       ...       ...       ...   \n",
       "41995       0  ...         0         0         0         0         0   \n",
       "41996       0  ...         0         0         0         0         0   \n",
       "41997       0  ...         0         0         0         0         0   \n",
       "41998       0  ...         0         0         0         0         0   \n",
       "41999       0  ...         0         0         0         0         0   \n",
       "\n",
       "       pixel779  pixel780  pixel781  pixel782  pixel783  \n",
       "0             0         0         0         0         0  \n",
       "1             0         0         0         0         0  \n",
       "2             0         0         0         0         0  \n",
       "3             0         0         0         0         0  \n",
       "4             0         0         0         0         0  \n",
       "...         ...       ...       ...       ...       ...  \n",
       "41995         0         0         0         0         0  \n",
       "41996         0         0         0         0         0  \n",
       "41997         0         0         0         0         0  \n",
       "41998         0         0         0         0         0  \n",
       "41999         0         0         0         0         0  \n",
       "\n",
       "[42000 rows x 785 columns]"
      ]
     },
     "execution_count": 9,
     "metadata": {},
     "output_type": "execute_result"
    }
   ],
   "source": [
    "data"
   ]
  },
  {
   "cell_type": "code",
   "execution_count": 10,
   "metadata": {
    "execution": {
     "iopub.execute_input": "2022-08-14T12:55:45.281509Z",
     "iopub.status.busy": "2022-08-14T12:55:45.281206Z",
     "iopub.status.idle": "2022-08-14T12:55:45.406493Z",
     "shell.execute_reply": "2022-08-14T12:55:45.405343Z",
     "shell.execute_reply.started": "2022-08-14T12:55:45.281482Z"
    }
   },
   "outputs": [],
   "source": [
    "data = np.array(data)"
   ]
  },
  {
   "cell_type": "code",
   "execution_count": 11,
   "metadata": {
    "execution": {
     "iopub.execute_input": "2022-08-14T12:55:45.409730Z",
     "iopub.status.busy": "2022-08-14T12:55:45.409291Z",
     "iopub.status.idle": "2022-08-14T12:55:45.416823Z",
     "shell.execute_reply": "2022-08-14T12:55:45.415506Z",
     "shell.execute_reply.started": "2022-08-14T12:55:45.409697Z"
    }
   },
   "outputs": [
    {
     "data": {
      "text/plain": [
       "(42000, 785)"
      ]
     },
     "execution_count": 11,
     "metadata": {},
     "output_type": "execute_result"
    }
   ],
   "source": [
    "data.shape"
   ]
  },
  {
   "cell_type": "code",
   "execution_count": 12,
   "metadata": {
    "execution": {
     "iopub.execute_input": "2022-08-14T12:55:45.418731Z",
     "iopub.status.busy": "2022-08-14T12:55:45.418364Z",
     "iopub.status.idle": "2022-08-14T12:55:45.550043Z",
     "shell.execute_reply": "2022-08-14T12:55:45.548915Z",
     "shell.execute_reply.started": "2022-08-14T12:55:45.418698Z"
    }
   },
   "outputs": [],
   "source": [
    "data = np.array(data)"
   ]
  },
  {
   "cell_type": "code",
   "execution_count": 13,
   "metadata": {
    "execution": {
     "iopub.execute_input": "2022-08-14T12:55:45.552092Z",
     "iopub.status.busy": "2022-08-14T12:55:45.551411Z",
     "iopub.status.idle": "2022-08-14T12:55:45.558564Z",
     "shell.execute_reply": "2022-08-14T12:55:45.557714Z",
     "shell.execute_reply.started": "2022-08-14T12:55:45.552049Z"
    }
   },
   "outputs": [
    {
     "data": {
      "text/plain": [
       "array([[1, 0, 0, ..., 0, 0, 0],\n",
       "       [0, 0, 0, ..., 0, 0, 0],\n",
       "       [1, 0, 0, ..., 0, 0, 0],\n",
       "       ...,\n",
       "       [7, 0, 0, ..., 0, 0, 0],\n",
       "       [6, 0, 0, ..., 0, 0, 0],\n",
       "       [9, 0, 0, ..., 0, 0, 0]], dtype=int64)"
      ]
     },
     "execution_count": 13,
     "metadata": {},
     "output_type": "execute_result"
    }
   ],
   "source": [
    "data"
   ]
  },
  {
   "cell_type": "code",
   "execution_count": 14,
   "metadata": {
    "execution": {
     "iopub.execute_input": "2022-08-14T12:55:45.560055Z",
     "iopub.status.busy": "2022-08-14T12:55:45.559465Z",
     "iopub.status.idle": "2022-08-14T12:55:45.571597Z",
     "shell.execute_reply": "2022-08-14T12:55:45.570497Z",
     "shell.execute_reply.started": "2022-08-14T12:55:45.560016Z"
    }
   },
   "outputs": [
    {
     "data": {
      "text/plain": [
       "(42000, 785)"
      ]
     },
     "execution_count": 14,
     "metadata": {},
     "output_type": "execute_result"
    }
   ],
   "source": [
    "data.shape"
   ]
  },
  {
   "cell_type": "code",
   "execution_count": 15,
   "metadata": {
    "execution": {
     "iopub.execute_input": "2022-08-14T12:55:45.573640Z",
     "iopub.status.busy": "2022-08-14T12:55:45.573349Z",
     "iopub.status.idle": "2022-08-14T12:55:45.580655Z",
     "shell.execute_reply": "2022-08-14T12:55:45.579605Z",
     "shell.execute_reply.started": "2022-08-14T12:55:45.573613Z"
    }
   },
   "outputs": [
    {
     "data": {
      "text/plain": [
       "dtype('int64')"
      ]
     },
     "execution_count": 15,
     "metadata": {},
     "output_type": "execute_result"
    }
   ],
   "source": [
    "data.dtype"
   ]
  },
  {
   "cell_type": "code",
   "execution_count": 16,
   "metadata": {
    "execution": {
     "iopub.execute_input": "2022-08-14T13:07:57.939648Z",
     "iopub.status.busy": "2022-08-14T13:07:57.938786Z",
     "iopub.status.idle": "2022-08-14T13:07:58.594998Z",
     "shell.execute_reply": "2022-08-14T13:07:58.593994Z",
     "shell.execute_reply.started": "2022-08-14T13:07:57.939606Z"
    }
   },
   "outputs": [],
   "source": [
    "m,n = data.shape\n",
    "np.random.shuffle(data)\n",
    "\n",
    "data_dev = data[0:1000].T\n",
    "Y_dev = data_dev[0]\n",
    "X_dev = data_dev[1:n]\n",
    "X_dev = X_dev/255\n",
    "\n",
    "data_train = data[1000:m].T\n",
    "Y_train = data_train[0]\n",
    "X_train = data_train[1:n]\n",
    "X_train = X_train/255"
   ]
  },
  {
   "cell_type": "code",
   "execution_count": 17,
   "metadata": {
    "execution": {
     "iopub.execute_input": "2022-08-14T13:08:08.390277Z",
     "iopub.status.busy": "2022-08-14T13:08:08.389798Z",
     "iopub.status.idle": "2022-08-14T13:08:08.397693Z",
     "shell.execute_reply": "2022-08-14T13:08:08.396637Z",
     "shell.execute_reply.started": "2022-08-14T13:08:08.390241Z"
    }
   },
   "outputs": [
    {
     "data": {
      "text/plain": [
       "array([1, 1, 0, ..., 7, 0, 5], dtype=int64)"
      ]
     },
     "execution_count": 17,
     "metadata": {},
     "output_type": "execute_result"
    }
   ],
   "source": [
    "Y_train"
   ]
  },
  {
   "cell_type": "code",
   "execution_count": 18,
   "metadata": {
    "execution": {
     "iopub.execute_input": "2022-08-14T12:55:46.114447Z",
     "iopub.status.busy": "2022-08-14T12:55:46.114123Z",
     "iopub.status.idle": "2022-08-14T12:55:46.122316Z",
     "shell.execute_reply": "2022-08-14T12:55:46.121316Z",
     "shell.execute_reply.started": "2022-08-14T12:55:46.114411Z"
    }
   },
   "outputs": [
    {
     "data": {
      "text/plain": [
       "(785, 41000)"
      ]
     },
     "execution_count": 18,
     "metadata": {},
     "output_type": "execute_result"
    }
   ],
   "source": [
    "data_train.shape"
   ]
  },
  {
   "cell_type": "code",
   "execution_count": 19,
   "metadata": {
    "execution": {
     "iopub.execute_input": "2022-08-14T13:44:22.568089Z",
     "iopub.status.busy": "2022-08-14T13:44:22.567650Z",
     "iopub.status.idle": "2022-08-14T13:44:22.574237Z",
     "shell.execute_reply": "2022-08-14T13:44:22.573311Z",
     "shell.execute_reply.started": "2022-08-14T13:44:22.568050Z"
    }
   },
   "outputs": [],
   "source": [
    "def init_params():\n",
    "    w1 = np.random.rand(10,784)-0.5 \n",
    "    b1 = np.random.rand(10,1) - 0.5 \n",
    "    w2 = np.random.rand(10,10) - 0.5 \n",
    "    b2 = np.random.rand(10,1) - 0.5 \n",
    "    return w1,b1,w2,b2"
   ]
  },
  {
   "cell_type": "code",
   "execution_count": 20,
   "metadata": {
    "execution": {
     "iopub.execute_input": "2022-08-14T13:49:54.036011Z",
     "iopub.status.busy": "2022-08-14T13:49:54.035585Z",
     "iopub.status.idle": "2022-08-14T13:49:54.048107Z",
     "shell.execute_reply": "2022-08-14T13:49:54.046947Z",
     "shell.execute_reply.started": "2022-08-14T13:49:54.035972Z"
    }
   },
   "outputs": [],
   "source": [
    "def ReLU(Z):\n",
    "    return np.maximum(0,Z)\n",
    "    \n",
    "def softmax(Z):\n",
    "    return np.exp(Z)/sum(np.exp(Z))\n",
    "\n",
    "def forward_prop(w1,b1,w2,b2,X):\n",
    "    z1 = w1.dot(X)+b1\n",
    "    a1 = ReLU(z1)\n",
    "    z2 = w2.dot(a1) +b2\n",
    "    a2 = softmax(z2)\n",
    "    return z1,a1,z2,a2\n",
    "    \n",
    "def one_hot(Y):\n",
    "    one_hot_Y = np.zeros((Y.size, Y.max() +1))\n",
    "    one_hot_Y[np.arange(Y.size),Y] = 1\n",
    "    one_hot_Y = one_hot_Y.T\n",
    "    return one_hot_Y\n",
    "\n",
    "def derivative_ReLU(Z):\n",
    "    return Z>0\n",
    "    \n",
    "def back_prop(z1,a1,z2,a2,w1,w2,X,Y):\n",
    "    m = Y.size\n",
    "    one_hot_Y = one_hot(Y)\n",
    "    dz2= a2- one_hot_Y\n",
    "    dw2= 1/m * dz2.dot(a1.T)\n",
    "    db2 = 1/m * np.sum(dz2)\n",
    "    dz1 = w2.T.dot(dz2)\n",
    "    dw1 = 1/m * dz1.dot(X.T)\n",
    "    db1 = 1/m * np.sum(dz1)\n",
    "    return dw1,db1,dw2,db2\n",
    "\n",
    "def update_params(w1,b1,w2,b2,dw1,db1,dw2,db2,alpha):\n",
    "    w1 = w1-alpha*dw1\n",
    "    b1 = b1-alpha*db1\n",
    "    w2 = w2-alpha*dw2\n",
    "    b2 = b2-alpha*db2\n",
    "    return w1,b1,w2,b2\n",
    "    "
   ]
  },
  {
   "cell_type": "code",
   "execution_count": 21,
   "metadata": {
    "execution": {
     "iopub.execute_input": "2022-08-14T13:46:23.718473Z",
     "iopub.status.busy": "2022-08-14T13:46:23.718059Z",
     "iopub.status.idle": "2022-08-14T13:46:23.730640Z",
     "shell.execute_reply": "2022-08-14T13:46:23.729365Z",
     "shell.execute_reply.started": "2022-08-14T13:46:23.718440Z"
    }
   },
   "outputs": [],
   "source": [
    "def get_predictions(a2):\n",
    "    return np.argmax(a2,0)\n",
    "\n",
    "def get_accuracy(predictions,Y):\n",
    "    print(predictions,Y)\n",
    "    return np.sum(predictions==Y)/Y.size\n",
    "\n",
    "\n",
    "\n",
    "\n",
    "def gradient_descent(X,Y,iterations,alpha):\n",
    "    w1,b1,w2,b2 = init_params()\n",
    "    for i in range(iterations):\n",
    "        z1,a1,z2,a2 = forward_prop(w1,b1,w2,b2,X)\n",
    "        dw1,db1,dw2,db2 = back_prop(z1,a1,z2,a2,w1,w2,X,Y)\n",
    "        w1,b1,w2,b2 = update_params(w1,b1,w2,b2,dw1,db1,dw2,db2,alpha)\n",
    "        if i%10==0:\n",
    "            print('iteration: ',i)\n",
    "            print('accuracy: ',get_accuracy(get_predictions(a2),Y))\n",
    "    return w1,b1,w2,b2\n",
    "\n",
    "\n",
    "\n"
   ]
  },
  {
   "cell_type": "code",
   "execution_count": 22,
   "metadata": {
    "execution": {
     "iopub.execute_input": "2022-08-14T13:49:58.769232Z",
     "iopub.status.busy": "2022-08-14T13:49:58.768766Z",
     "iopub.status.idle": "2022-08-14T13:51:04.366528Z",
     "shell.execute_reply": "2022-08-14T13:51:04.365240Z",
     "shell.execute_reply.started": "2022-08-14T13:49:58.769191Z"
    }
   },
   "outputs": [
    {
     "name": "stdout",
     "output_type": "stream",
     "text": [
      "iteration:  0\n",
      "[8 8 9 ... 9 8 8] [1 1 0 ... 7 0 5]\n",
      "accuracy:  0.10746341463414634\n",
      "iteration:  10\n",
      "[8 7 0 ... 9 2 9] [1 1 0 ... 7 0 5]\n",
      "accuracy:  0.3034390243902439\n",
      "iteration:  20\n",
      "[8 1 0 ... 9 2 9] [1 1 0 ... 7 0 5]\n",
      "accuracy:  0.4645365853658537\n",
      "iteration:  30\n",
      "[1 1 0 ... 9 2 9] [1 1 0 ... 7 0 5]\n",
      "accuracy:  0.5648048780487804\n",
      "iteration:  40\n",
      "[1 1 0 ... 9 0 9] [1 1 0 ... 7 0 5]\n",
      "accuracy:  0.6175609756097561\n",
      "iteration:  50\n",
      "[1 1 0 ... 9 0 9] [1 1 0 ... 7 0 5]\n",
      "accuracy:  0.6528780487804878\n",
      "iteration:  60\n",
      "[1 1 0 ... 7 0 9] [1 1 0 ... 7 0 5]\n",
      "accuracy:  0.6774878048780488\n",
      "iteration:  70\n",
      "[1 1 0 ... 7 0 9] [1 1 0 ... 7 0 5]\n",
      "accuracy:  0.695\n",
      "iteration:  80\n",
      "[1 1 0 ... 7 0 9] [1 1 0 ... 7 0 5]\n",
      "accuracy:  0.7086097560975609\n",
      "iteration:  90\n",
      "[1 1 0 ... 7 0 9] [1 1 0 ... 7 0 5]\n",
      "accuracy:  0.7184878048780488\n",
      "iteration:  100\n",
      "[1 1 0 ... 7 0 9] [1 1 0 ... 7 0 5]\n",
      "accuracy:  0.7288292682926829\n",
      "iteration:  110\n",
      "[1 1 0 ... 7 0 9] [1 1 0 ... 7 0 5]\n",
      "accuracy:  0.7368780487804878\n",
      "iteration:  120\n",
      "[1 1 0 ... 7 0 9] [1 1 0 ... 7 0 5]\n",
      "accuracy:  0.744\n",
      "iteration:  130\n",
      "[1 1 0 ... 7 0 9] [1 1 0 ... 7 0 5]\n",
      "accuracy:  0.7505853658536585\n",
      "iteration:  140\n",
      "[1 1 0 ... 7 0 9] [1 1 0 ... 7 0 5]\n",
      "accuracy:  0.755390243902439\n",
      "iteration:  150\n",
      "[1 1 0 ... 7 0 9] [1 1 0 ... 7 0 5]\n",
      "accuracy:  0.7607317073170732\n",
      "iteration:  160\n",
      "[1 1 0 ... 7 0 9] [1 1 0 ... 7 0 5]\n",
      "accuracy:  0.7658780487804878\n",
      "iteration:  170\n",
      "[1 1 0 ... 7 0 9] [1 1 0 ... 7 0 5]\n",
      "accuracy:  0.7705609756097561\n",
      "iteration:  180\n",
      "[1 1 0 ... 7 0 9] [1 1 0 ... 7 0 5]\n",
      "accuracy:  0.7750731707317073\n",
      "iteration:  190\n",
      "[1 1 0 ... 7 0 9] [1 1 0 ... 7 0 5]\n",
      "accuracy:  0.7791463414634147\n",
      "iteration:  200\n",
      "[1 1 0 ... 7 0 9] [1 1 0 ... 7 0 5]\n",
      "accuracy:  0.7834390243902439\n",
      "iteration:  210\n",
      "[1 1 0 ... 7 0 9] [1 1 0 ... 7 0 5]\n",
      "accuracy:  0.7878536585365854\n",
      "iteration:  220\n",
      "[1 1 0 ... 7 0 9] [1 1 0 ... 7 0 5]\n",
      "accuracy:  0.7913658536585366\n",
      "iteration:  230\n",
      "[1 1 0 ... 7 0 9] [1 1 0 ... 7 0 5]\n",
      "accuracy:  0.7951219512195122\n",
      "iteration:  240\n",
      "[1 1 0 ... 7 0 9] [1 1 0 ... 7 0 5]\n",
      "accuracy:  0.7983902439024391\n",
      "iteration:  250\n",
      "[1 1 0 ... 7 0 9] [1 1 0 ... 7 0 5]\n",
      "accuracy:  0.8018536585365854\n",
      "iteration:  260\n",
      "[1 1 0 ... 7 0 9] [1 1 0 ... 7 0 5]\n",
      "accuracy:  0.8047560975609757\n",
      "iteration:  270\n",
      "[1 1 0 ... 7 0 9] [1 1 0 ... 7 0 5]\n",
      "accuracy:  0.8081951219512196\n",
      "iteration:  280\n",
      "[1 1 0 ... 7 0 9] [1 1 0 ... 7 0 5]\n",
      "accuracy:  0.8112926829268293\n",
      "iteration:  290\n",
      "[1 1 0 ... 7 0 9] [1 1 0 ... 7 0 5]\n",
      "accuracy:  0.8142195121951219\n",
      "iteration:  300\n",
      "[1 1 0 ... 7 0 9] [1 1 0 ... 7 0 5]\n",
      "accuracy:  0.8166097560975609\n",
      "iteration:  310\n",
      "[1 1 0 ... 7 0 9] [1 1 0 ... 7 0 5]\n",
      "accuracy:  0.8188048780487804\n",
      "iteration:  320\n",
      "[1 1 0 ... 7 0 9] [1 1 0 ... 7 0 5]\n",
      "accuracy:  0.8208292682926829\n",
      "iteration:  330\n",
      "[1 1 0 ... 7 0 9] [1 1 0 ... 7 0 5]\n",
      "accuracy:  0.823170731707317\n",
      "iteration:  340\n",
      "[1 1 0 ... 7 0 9] [1 1 0 ... 7 0 5]\n",
      "accuracy:  0.8256585365853658\n",
      "iteration:  350\n",
      "[1 1 0 ... 7 0 9] [1 1 0 ... 7 0 5]\n",
      "accuracy:  0.827390243902439\n",
      "iteration:  360\n",
      "[1 1 0 ... 7 0 9] [1 1 0 ... 7 0 5]\n",
      "accuracy:  0.8292926829268292\n",
      "iteration:  370\n",
      "[1 1 0 ... 7 0 9] [1 1 0 ... 7 0 5]\n",
      "accuracy:  0.8313658536585365\n",
      "iteration:  380\n",
      "[1 1 0 ... 7 0 9] [1 1 0 ... 7 0 5]\n",
      "accuracy:  0.8333414634146341\n",
      "iteration:  390\n",
      "[1 1 0 ... 7 0 9] [1 1 0 ... 7 0 5]\n",
      "accuracy:  0.8352682926829268\n",
      "iteration:  400\n",
      "[1 1 0 ... 7 0 9] [1 1 0 ... 7 0 5]\n",
      "accuracy:  0.8372926829268292\n",
      "iteration:  410\n",
      "[1 1 0 ... 7 0 8] [1 1 0 ... 7 0 5]\n",
      "accuracy:  0.8386585365853658\n",
      "iteration:  420\n",
      "[1 1 0 ... 7 0 8] [1 1 0 ... 7 0 5]\n",
      "accuracy:  0.8400975609756097\n",
      "iteration:  430\n",
      "[1 1 0 ... 7 0 8] [1 1 0 ... 7 0 5]\n",
      "accuracy:  0.8413414634146341\n",
      "iteration:  440\n",
      "[1 1 0 ... 7 0 8] [1 1 0 ... 7 0 5]\n",
      "accuracy:  0.8426829268292683\n",
      "iteration:  450\n",
      "[1 1 0 ... 7 0 8] [1 1 0 ... 7 0 5]\n",
      "accuracy:  0.8435365853658536\n",
      "iteration:  460\n",
      "[1 1 0 ... 7 0 8] [1 1 0 ... 7 0 5]\n",
      "accuracy:  0.844609756097561\n",
      "iteration:  470\n",
      "[1 1 0 ... 7 0 8] [1 1 0 ... 7 0 5]\n",
      "accuracy:  0.8457073170731707\n",
      "iteration:  480\n",
      "[1 1 0 ... 7 0 8] [1 1 0 ... 7 0 5]\n",
      "accuracy:  0.8468048780487805\n",
      "iteration:  490\n",
      "[1 1 0 ... 7 0 8] [1 1 0 ... 7 0 5]\n",
      "accuracy:  0.8476585365853658\n"
     ]
    }
   ],
   "source": [
    "w1,b1,w2,b2 = gradient_descent(X_train,Y_train,500,0.1)"
   ]
  },
  {
   "cell_type": "code",
   "execution_count": 23,
   "metadata": {
    "execution": {
     "iopub.execute_input": "2022-08-14T13:54:08.662328Z",
     "iopub.status.busy": "2022-08-14T13:54:08.661937Z",
     "iopub.status.idle": "2022-08-14T13:54:08.671304Z",
     "shell.execute_reply": "2022-08-14T13:54:08.670039Z",
     "shell.execute_reply.started": "2022-08-14T13:54:08.662296Z"
    }
   },
   "outputs": [],
   "source": [
    "def make_predictions(X,w1,b1,w2,b2):\n",
    "    _, _, _, a2 = forward_prop(w1, b1, w2, b2, X)\n",
    "    predictions = get_predictions(a2)\n",
    "    return predictions\n",
    "\n",
    "def test_prediction(index, w1, b1, w2, b2):\n",
    "    current_image = X_train[:, index, None]\n",
    "    prediction = make_predictions(X_train[:, index, None], w1, b1, w2, b2)\n",
    "    label = Y_train[index]\n",
    "    print(\"Prediction: \", prediction)\n",
    "    print(\"Label: \", label)\n",
    "    \n",
    "    current_image = current_image.reshape((28, 28)) * 255\n",
    "    plt.gray()\n",
    "    plt.imshow(current_image, interpolation='nearest')\n",
    "    plt.show()\n",
    "    "
   ]
  },
  {
   "cell_type": "code",
   "execution_count": 24,
   "metadata": {
    "execution": {
     "iopub.execute_input": "2022-08-14T13:54:10.586256Z",
     "iopub.status.busy": "2022-08-14T13:54:10.585829Z",
     "iopub.status.idle": "2022-08-14T13:54:10.785920Z",
     "shell.execute_reply": "2022-08-14T13:54:10.784680Z",
     "shell.execute_reply.started": "2022-08-14T13:54:10.586223Z"
    }
   },
   "outputs": [
    {
     "name": "stdout",
     "output_type": "stream",
     "text": [
      "Prediction:  [1]\n",
      "Label:  1\n"
     ]
    },
    {
     "data": {
      "image/png": "[encoded data removed]",
      "text/plain": [
       "<Figure size 432x288 with 1 Axes>"
      ]
     },
     "metadata": {
      "needs_background": "light"
     },
     "output_type": "display_data"
    }
   ],
   "source": [
    "test_prediction(0,w1,b1,w2,b2)"
   ]
  },
  {
   "cell_type": "code",
   "execution_count": 25,
   "metadata": {
    "execution": {
     "iopub.execute_input": "2022-08-14T13:54:40.190164Z",
     "iopub.status.busy": "2022-08-14T13:54:40.189726Z",
     "iopub.status.idle": "2022-08-14T13:54:40.218850Z",
     "shell.execute_reply": "2022-08-14T13:54:40.217603Z",
     "shell.execute_reply.started": "2022-08-14T13:54:40.190128Z"
    }
   },
   "outputs": [
    {
     "name": "stdout",
     "output_type": "stream",
     "text": [
      "[9 2 1 1 6 3 5 4 6 0 3 9 3 6 9 6 6 5 5 0 1 7 3 0 4 7 4 8 2 4 3 0 7 7 1 9 4\n",
      " 5 1 3 2 1 2 7 3 3 6 1 4 6 7 3 7 6 1 4 5 4 1 6 9 2 7 1 1 6 5 6 0 3 2 5 0 6\n",
      " 1 0 4 2 4 6 4 4 1 1 0 9 7 5 6 6 0 7 3 6 4 8 8 1 7 9 1 3 8 0 9 1 3 7 7 1 8\n",
      " 1 4 7 3 7 5 8 5 8 7 6 6 8 0 9 3 2 2 1 2 5 9 0 2 9 5 3 6 0 1 7 5 7 9 4 0 8\n",
      " 0 8 7 0 2 6 2 7 2 5 8 0 4 7 0 1 8 6 0 1 7 3 4 8 1 4 8 0 3 1 3 6 0 7 2 4 1\n",
      " 9 6 6 5 3 6 8 8 3 2 7 3 7 3 0 1 3 7 2 9 0 9 1 2 0 0 9 7 1 8 9 7 1 4 3 9 6\n",
      " 1 4 3 5 9 1 6 1 9 8 0 3 2 6 7 6 2 8 6 3 6 8 0 8 2 6 1 1 0 2 5 2 5 8 8 5 1\n",
      " 4 9 8 5 0 3 0 5 0 2 9 6 9 9 1 1 9 0 8 0 3 1 0 7 3 2 2 8 9 2 9 0 1 9 6 6 1\n",
      " 4 3 3 0 9 6 9 5 6 9 6 1 1 6 6 4 8 8 2 0 6 1 9 7 1 3 8 1 9 7 3 0 7 1 4 5 8\n",
      " 0 7 2 0 8 4 3 1 9 4 1 3 7 2 9 7 6 4 1 0 9 5 1 2 1 8 2 1 7 1 0 5 9 9 9 6 1\n",
      " 7 4 9 1 1 4 2 5 9 6 4 1 4 7 9 2 7 1 7 8 3 0 9 1 3 9 7 8 0 4 7 4 3 6 5 9 1\n",
      " 1 7 0 6 3 7 6 2 1 3 2 2 3 1 6 2 4 9 6 5 2 0 9 7 6 1 8 5 0 6 3 4 6 5 1 2 6\n",
      " 0 0 0 7 9 4 9 2 4 2 2 1 1 3 8 5 9 7 6 1 1 3 9 6 0 0 7 4 2 2 7 9 5 4 5 2 9\n",
      " 8 7 3 4 1 7 6 9 1 6 5 3 4 4 3 2 2 7 5 7 3 2 4 1 6 2 9 5 7 4 3 0 0 7 2 3 5\n",
      " 0 9 5 6 4 5 3 7 0 4 4 2 9 7 6 0 9 5 1 0 0 1 4 1 1 6 0 1 2 3 8 2 6 3 4 2 6\n",
      " 4 1 0 5 9 9 7 4 8 8 1 8 9 0 9 2 0 2 6 1 5 0 3 6 1 9 0 6 2 4 7 8 9 3 3 8 6\n",
      " 2 0 6 1 8 3 2 3 5 7 8 1 8 1 5 0 0 3 5 2 3 3 8 6 9 8 7 1 6 7 9 7 8 3 4 7 8\n",
      " 0 8 7 9 1 1 3 4 3 1 0 2 5 2 8 9 7 0 6 4 7 6 4 7 0 1 4 5 7 0 6 7 1 5 5 1 0\n",
      " 5 7 7 6 7 8 3 0 3 1 1 1 9 1 9 5 3 5 5 4 6 6 5 0 3 3 8 1 2 3 0 7 4 8 7 0 1\n",
      " 3 5 1 5 0 6 3 0 6 7 4 4 5 6 7 8 5 2 9 2 7 9 6 3 1 8 3 3 8 3 0 1 0 8 5 1 5\n",
      " 6 1 6 4 9 5 4 2 7 4 3 0 9 6 4 2 8 9 4 9 2 5 9 1 1 0 6 7 5 4 4 4 4 4 4 1 8\n",
      " 8 7 0 2 4 4 3 2 1 3 7 2 4 4 2 9 5 4 8 5 5 6 2 0 2 2 2 5 4 7 0 8 0 8 4 4 3\n",
      " 3 0 9 1 7 3 2 2 4 9 2 0 5 9 5 5 2 1 0 5 2 3 7 9 9 0 5 6 0 6 6 0 7 4 7 6 3\n",
      " 4 4 3 3 1 8 3 5 8 6 9 1 1 5 8 9 0 9 5 3 8 6 9 9 8 1 3 9 1 3 1 3 0 6 7 0 9\n",
      " 5 5 1 1 5 1 8 2 8 8 6 0 1 0 1 4 6 2 4 9 3 0 6 3 6 3 0 3 0 6 5 9 3 1 7 7 6\n",
      " 7 9 5 8 0 7 2 4 1 0 3 4 6 4 1 8 0 9 2 5 6 5 3 8 1 0 5 8 8 9 5 5 0 2 8 0 9\n",
      " 0 3 2 3 9 6 7 1 7 6 8 8 2 1 7 9 1 4 9 7 7 6 3 8 9 6 0 9 8 0 1 7 2 3 7 5 1\n",
      " 5] [9 2 1 1 6 3 5 4 6 0 3 9 3 6 9 6 6 5 5 6 1 2 3 0 6 7 4 8 2 5 3 0 7 7 1 9 9\n",
      " 5 1 3 2 1 2 7 8 3 6 1 4 6 7 3 7 6 1 4 5 4 1 6 8 2 8 1 1 6 5 6 0 3 7 5 0 6\n",
      " 1 0 4 2 4 6 4 4 1 2 6 4 7 5 6 6 0 7 3 8 4 8 8 1 7 9 1 3 8 0 9 1 3 7 7 1 3\n",
      " 1 4 7 3 7 1 8 8 8 7 6 6 8 0 9 3 2 2 1 2 5 8 0 2 9 5 8 6 0 1 7 5 7 9 4 0 8\n",
      " 0 8 7 0 2 6 2 7 6 5 8 6 4 7 0 1 8 6 0 2 7 3 4 8 1 4 8 0 3 1 3 6 3 7 4 6 8\n",
      " 9 3 6 5 3 6 7 8 3 2 7 3 7 3 0 1 3 7 2 8 5 9 1 2 0 0 2 7 1 5 9 7 1 9 5 9 6\n",
      " 1 4 3 5 9 1 6 8 9 8 0 3 2 6 7 6 2 8 6 3 4 2 0 2 2 6 1 3 0 3 0 2 6 8 8 5 2\n",
      " 4 9 2 5 0 3 2 6 0 2 9 6 8 9 1 1 9 0 8 0 3 1 0 7 3 2 2 8 9 2 9 0 1 9 6 6 1\n",
      " 4 3 5 0 9 6 9 5 6 5 5 1 1 6 6 4 1 5 2 0 6 1 9 7 1 2 8 1 9 7 5 0 7 1 4 5 8\n",
      " 0 7 1 0 8 5 3 1 7 4 1 3 3 2 9 7 6 4 1 0 9 5 1 2 1 8 7 1 7 1 0 5 3 9 9 6 1\n",
      " 7 9 9 1 8 4 2 5 4 6 4 1 4 9 8 6 7 1 7 5 3 0 9 1 3 9 7 8 0 4 7 6 3 6 5 9 3\n",
      " 1 7 0 6 3 7 6 2 1 3 2 2 3 1 5 2 4 7 6 5 2 0 9 4 6 1 8 5 0 6 3 9 6 5 1 2 6\n",
      " 0 6 0 7 9 4 9 2 4 2 2 1 1 3 8 5 9 7 5 1 1 8 5 6 0 0 7 4 6 2 7 9 5 4 5 2 9\n",
      " 8 7 9 4 1 7 6 9 1 6 5 2 4 4 3 2 2 7 5 7 3 2 4 1 5 2 9 5 7 4 3 0 0 7 2 3 5\n",
      " 0 7 5 6 4 9 3 7 0 4 4 2 9 7 6 0 9 5 6 0 8 1 9 1 1 6 5 1 2 3 3 3 6 3 4 3 6\n",
      " 9 1 0 5 9 4 7 4 8 8 1 8 9 0 9 2 0 2 6 1 3 0 3 6 1 2 0 5 9 4 7 2 8 3 3 8 6\n",
      " 2 0 6 1 8 3 3 3 0 7 1 1 8 1 5 0 3 3 3 2 3 3 8 6 9 8 7 1 6 9 4 7 8 3 4 7 7\n",
      " 0 8 7 1 1 1 3 4 3 1 0 1 5 8 8 4 7 0 1 9 7 6 4 7 0 1 4 5 7 0 6 7 1 5 5 1 0\n",
      " 5 7 7 6 7 8 3 0 3 1 1 1 7 1 4 6 5 5 5 4 6 6 5 0 1 3 2 1 2 8 0 7 4 8 7 0 1\n",
      " 5 5 1 5 0 6 2 0 6 7 4 4 3 6 7 2 5 2 9 5 7 9 6 9 1 1 3 3 8 3 0 1 0 8 9 1 5\n",
      " 6 1 6 4 9 5 5 2 7 4 3 0 9 6 4 2 5 9 4 9 2 5 9 1 1 0 6 7 5 4 4 4 4 4 4 1 8\n",
      " 9 7 0 2 4 4 3 2 1 8 7 2 4 4 2 9 5 4 5 5 5 6 4 0 2 2 5 0 4 7 0 8 0 8 4 4 3\n",
      " 3 0 9 1 7 3 2 2 4 9 2 0 8 9 5 2 6 1 0 5 2 5 7 4 9 0 5 6 0 6 6 0 3 4 7 6 9\n",
      " 4 4 3 3 1 3 3 5 8 6 9 1 1 5 8 9 0 4 5 3 8 5 4 7 2 8 3 9 1 3 1 3 8 4 7 2 9\n",
      " 5 8 1 1 5 1 0 2 8 8 6 0 1 0 1 4 6 2 4 9 3 0 6 3 6 3 0 3 0 6 5 9 3 1 7 7 6\n",
      " 7 4 5 8 0 7 2 4 1 0 3 4 6 4 1 7 0 9 2 5 6 5 3 8 1 0 5 8 5 9 3 5 0 2 8 0 9\n",
      " 0 3 2 3 9 6 7 1 7 6 8 3 2 1 7 8 1 4 9 7 7 6 3 8 9 5 0 9 8 0 1 7 8 3 7 5 1\n",
      " 5]\n"
     ]
    },
    {
     "data": {
      "text/plain": [
       "0.839"
      ]
     },
     "execution_count": 25,
     "metadata": {},
     "output_type": "execute_result"
    }
   ],
   "source": [
    "dev_predictions = make_predictions(X_dev, w1, b1, w2, b2)\n",
    "get_accuracy(dev_predictions, Y_dev)"
   ]
  },
  {
   "cell_type": "code",
   "execution_count": null,
   "metadata": {},
   "outputs": [],
   "source": []
  }
 ],
 "metadata": {
  "kernelspec": {
   "display_name": "Python 3",
   "language": "python",
   "name": "python3"
  },
  "language_info": {
   "codemirror_mode": {
    "name": "ipython",
    "version": 3
   },
   "file_extension": ".py",
   "mimetype": "text/x-python",
   "name": "python",
   "nbconvert_exporter": "python",
   "pygments_lexer": "ipython3",
   "version": "3.8.8"
  }
 },
 "nbformat": 4,
 "nbformat_minor": 4
}
